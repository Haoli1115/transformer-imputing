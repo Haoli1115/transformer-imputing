{
 "cells": [
  {
   "cell_type": "code",
   "execution_count": 1,
   "id": "c3def5a0",
   "metadata": {},
   "outputs": [],
   "source": [
    "import pandas as pd\n",
    "import numpy as np\n",
    "import time\n",
    "import matplotlib.pyplot as plt\n",
    "import seaborn as sns\n",
    "from datetime import datetime, timedelta\n",
    "import statsmodels.api as sm\n",
    "from math import sqrt as math_sqrt\n",
    "from sklearn.metrics import mean_squared_error\n",
    "import pickle\n",
    "import math\n",
    "import random\n",
    "import sys\n",
    "\n",
    "#Import custom modules\n",
    "sys.path.append('../')\n",
    "from utils.utils import *"
   ]
  },
  {
   "cell_type": "markdown",
   "id": "94ce022e",
   "metadata": {},
   "source": [
    "# Load data"
   ]
  },
  {
   "cell_type": "code",
   "execution_count": 2,
   "id": "4107686b",
   "metadata": {},
   "outputs": [],
   "source": [
    "_, testing_data, _ = load_data()\n",
    "countries, no_features, feature_names, years, months, weekdays, hours = load_data_information()"
   ]
  },
  {
   "cell_type": "markdown",
   "id": "65f5e625",
   "metadata": {},
   "source": [
    "Extract predictions by previous day"
   ]
  },
  {
   "cell_type": "code",
   "execution_count": 3,
   "id": "3df43580",
   "metadata": {},
   "outputs": [],
   "source": [
    "#Extract features\n",
    "testing_data = testing_data[:,:,5:(5+no_features)]\n",
    "true_values = testing_data[:,2*24:3*24,:]\n",
    "previous_day = testing_data[:,1*24:2*24,:]"
   ]
  },
  {
   "cell_type": "markdown",
   "id": "1927e4c2",
   "metadata": {},
   "source": [
    "# Load masks and predict data"
   ]
  },
  {
   "cell_type": "code",
   "execution_count": 4,
   "id": "aa4f30e0",
   "metadata": {},
   "outputs": [
    {
     "name": "stdout",
     "output_type": "stream",
     "text": [
      "0.113346726\n",
      "0.11590853\n",
      "0.11499126\n",
      "0.1149008\n"
     ]
    }
   ],
   "source": [
    "for p in [0.2,0.4,0.6,0.8]:\n",
    "    testing_mask = np.load(\"../evaluation/testing_mask_{}.npy\".format(p))\n",
    "    \n",
    "    #Create predictions\n",
    "    mask = testing_mask[:,2*24:3*24,:].reshape(testing_mask.shape[0],-1,1)\n",
    "    true = true_values.reshape(true_values.shape[0],-1,1)[mask==1]\n",
    "    pred = previous_day.reshape(true_values.shape[0],-1,1)[mask==1]\n",
    "    \n",
    "    #Calculate MSE\n",
    "    mse = mean_squared_error(pred,true)\n",
    "    print(mse)\n",
    "    \n",
    "    #Save prediction\n",
    "    np.save(\"../predictions/locf_pred_{}\".format(p),pred)"
   ]
  },
  {
   "cell_type": "markdown",
   "id": "a427c290-7f31-4f0d-96ad-608da2e4af79",
   "metadata": {},
   "source": [
    "## Blockwise"
   ]
  },
  {
   "cell_type": "code",
   "execution_count": 5,
   "id": "f3a5b789-e2aa-4e4d-9a4a-2c6069577a0e",
   "metadata": {},
   "outputs": [
    {
     "name": "stdout",
     "output_type": "stream",
     "text": [
      "0.12933928\n"
     ]
    }
   ],
   "source": [
    "    testing_mask = np.load(\"../evaluation/testing_mask_test.npy\")\n",
    "    \n",
    "    #Create predictions\n",
    "    mask = testing_mask[:,2*24:3*24,:].reshape(testing_mask.shape[0],-1,1)\n",
    "    true = true_values.reshape(true_values.shape[0],-1,1)[mask==1]\n",
    "    pred = previous_day.reshape(true_values.shape[0],-1,1)[mask==1]\n",
    "    \n",
    "    #Calculate MSE\n",
    "    mse = mean_squared_error(pred,true)\n",
    "    print(mse)\n",
    "    \n",
    "    #Save prediction\n",
    "    np.save(\"../predictions/locf_pred_test\",pred)"
   ]
  }
 ],
 "metadata": {
  "kernelspec": {
   "display_name": "Python 3 (ipykernel)",
   "language": "python",
   "name": "python3"
  },
  "language_info": {
   "codemirror_mode": {
    "name": "ipython",
    "version": 3
   },
   "file_extension": ".py",
   "mimetype": "text/x-python",
   "name": "python",
   "nbconvert_exporter": "python",
   "pygments_lexer": "ipython3",
   "version": "3.8.8"
  }
 },
 "nbformat": 4,
 "nbformat_minor": 5
}
