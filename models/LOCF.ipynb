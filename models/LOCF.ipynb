{
 "cells": [
  {
   "cell_type": "code",
   "execution_count": 1,
   "id": "c3def5a0",
   "metadata": {},
   "outputs": [],
   "source": [
    "import pandas as pd\n",
    "import numpy as np\n",
    "import time\n",
    "import matplotlib.pyplot as plt\n",
    "import seaborn as sns\n",
    "from datetime import datetime, timedelta\n",
    "import statsmodels.api as sm\n",
    "from math import sqrt as math_sqrt\n",
    "from sklearn.metrics import mean_squared_error\n",
    "import pickle\n",
    "import math\n",
    "import random\n",
    "import sys\n",
    "\n",
    "#Import custom modules\n",
    "sys.path.append('../')\n",
    "from utils.utils import *"
   ]
  },
  {
   "cell_type": "markdown",
   "id": "94ce022e",
   "metadata": {},
   "source": [
    "# Load data"
   ]
  },
  {
   "cell_type": "code",
   "execution_count": 2,
   "id": "4107686b",
   "metadata": {},
   "outputs": [],
   "source": [
    "_, testing_data, _ = load_data()\n",
    "countries, no_features, feature_names, years, months, weekdays, hours = load_data_information()"
   ]
  },
  {
   "cell_type": "markdown",
   "id": "65f5e625",
   "metadata": {},
   "source": [
    "Extract predictions by previous day"
   ]
  },
  {
   "cell_type": "code",
   "execution_count": 3,
   "id": "3df43580",
   "metadata": {},
   "outputs": [],
   "source": [
    "#Extract features\n",
    "testing_data = testing_data[:,:,5:(5+no_features)]\n",
    "true_values = testing_data[:,2*24:3*24,:]\n",
    "previous_day = testing_data[:,1*24:2*24,:]"
   ]
  },
  {
   "cell_type": "markdown",
   "id": "1927e4c2",
   "metadata": {},
   "source": [
    "# Load mask and predict data"
   ]
  },
  {
   "cell_type": "code",
   "execution_count": 4,
   "id": "68f87e55-c4e1-40a4-80e9-5f0576f223f1",
   "metadata": {},
   "outputs": [],
   "source": [
    "testing_mask =  np.load(\"../data/evaluation/testing_distribution_full.npy\")\n",
    "mask = testing_mask.reshape((testing_mask.shape[0], 24, no_features))\n",
    "true = true_values[mask == 1]\n",
    "pred = previous_day[mask == 1]\n",
    "#Save predition\n",
    "np.save(\"../data/predictions/locf_pred_full.npy\", pred)"
   ]
  },
  {
   "cell_type": "code",
   "execution_count": 5,
   "id": "f0639617-18d6-4b5b-b8fb-ba16d8962813",
   "metadata": {},
   "outputs": [
    {
     "name": "stdout",
     "output_type": "stream",
     "text": [
      "MSE: 0.09561029821634293 +- 0.8505318760871887\n",
      "MAE: 0.09404245764017105 +- 0.2945612072944641\n"
     ]
    }
   ],
   "source": [
    "# Calculate mse\n",
    "error = np.square(pred - true)\n",
    "print(\"MSE: {} +- {}\".format(error.mean(),error.std()))\n",
    "\n",
    "# Calculate mae\n",
    "error = np.abs(pred - true)\n",
    "print(\"MAE: {} +- {}\".format(error.mean(),error.std()))"
   ]
  },
  {
   "cell_type": "code",
   "execution_count": null,
   "id": "543b220c-11bd-464b-8dbf-819add10d5ac",
   "metadata": {},
   "outputs": [],
   "source": []
  }
 ],
 "metadata": {
  "kernelspec": {
   "display_name": "Python 3 (ipykernel)",
   "language": "python",
   "name": "python3"
  },
  "language_info": {
   "codemirror_mode": {
    "name": "ipython",
    "version": 3
   },
   "file_extension": ".py",
   "mimetype": "text/x-python",
   "name": "python",
   "nbconvert_exporter": "python",
   "pygments_lexer": "ipython3",
   "version": "3.8.8"
  }
 },
 "nbformat": 4,
 "nbformat_minor": 5
}
