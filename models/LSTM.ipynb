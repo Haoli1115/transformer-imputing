{
 "cells": [
  {
   "cell_type": "markdown",
   "metadata": {},
   "source": [
    "# Prework"
   ]
  },
  {
   "cell_type": "markdown",
   "metadata": {},
   "source": [
    "## Import packages and data"
   ]
  },
  {
   "cell_type": "code",
   "execution_count": 1,
   "metadata": {},
   "outputs": [],
   "source": [
    "import sys\n",
    "import pandas as pd\n",
    "import numpy as np\n",
    "import time\n",
    "import matplotlib.pyplot as plt\n",
    "import seaborn as sns\n",
    "from datetime import datetime, timedelta\n",
    "import tensorflow as tf\n",
    "from tensorflow import keras\n",
    "from tensorflow.keras.layers import *\n",
    "import tensorflow_probability as tfp\n",
    "from tensorflow.keras.models import Model\n",
    "import statsmodels.api as sm\n",
    "from math import sqrt as math_sqrt\n",
    "from sklearn.metrics import mean_squared_error\n",
    "import pickle\n",
    "import math\n",
    "import random\n",
    "from tqdm import tqdm\n",
    "\n",
    "#Import custom modules\n",
    "sys.path.append('../')\n",
    "from utils.utils import *"
   ]
  },
  {
   "cell_type": "code",
   "execution_count": 2,
   "metadata": {},
   "outputs": [
    {
     "name": "stdout",
     "output_type": "stream",
     "text": [
      "TensorFlow version: 2.4.1\n",
      "Eager execution: True\n"
     ]
    }
   ],
   "source": [
    "print(\"TensorFlow version: {}\".format(tf.__version__))\n",
    "print(\"Eager execution: {}\".format(tf.executing_eagerly()))"
   ]
  },
  {
   "cell_type": "markdown",
   "metadata": {},
   "source": [
    "## Load data"
   ]
  },
  {
   "cell_type": "code",
   "execution_count": 3,
   "metadata": {},
   "outputs": [],
   "source": [
    "training_data, testing_data, testing_index = load_data()\n",
    "countries, no_features, feature_names, years, months, weekdays, hours = load_data_information()"
   ]
  },
  {
   "cell_type": "markdown",
   "metadata": {},
   "source": [
    "## Adjust data format"
   ]
  },
  {
   "cell_type": "code",
   "execution_count": 4,
   "metadata": {},
   "outputs": [],
   "source": [
    "# Extracts features, year, etc. from whole data\n",
    "def change_format(input_data):\n",
    "    #Extract year from data matrix\n",
    "    year_w = input_data[:,:,0]\n",
    "    #Extract weekday from data matrix\n",
    "    weekday_w = input_data[:,:,1]\n",
    "    #Extract hour from data matrix\n",
    "    hour_w = input_data[:,:,2]\n",
    "    #Extract country from data matrix\n",
    "    country_w = input_data[:,0:1,3]   \n",
    "    #Extract month from data matrix\n",
    "    month_w = input_data[:,:,4:5]\n",
    "    #Extract features from matrix\n",
    "    features_w = input_data[:,:,5:5+no_features]\n",
    "    #Extract matrix of missing values from data matrix\n",
    "    miss_vals_w = input_data[:,:,-no_features-6:-6]\n",
    "    #Extract pos enc from data matrix\n",
    "    pos_enc_w = input_data[:,:,-6:]\n",
    "   \n",
    "\n",
    "    return features_w, miss_vals_w, pos_enc_w, country_w, year_w, hour_w, weekday_w\n",
    "#testing\n",
    "features, miss_vals, pos_enc, country, year, hour, weekday = change_format(training_data[19:21])"
   ]
  },
  {
   "cell_type": "markdown",
   "metadata": {},
   "source": [
    "Anpassen der Anzahl der missing values und welches feature gemasked werden soll\n",
    "\n",
    "Features: PV-12 ; Wind-Onshore-14"
   ]
  },
  {
   "cell_type": "code",
   "execution_count": 5,
   "metadata": {},
   "outputs": [],
   "source": [
    "number_miss_vals = no_features*12 # number of missing values per day (maximum is features masked times 24)\n",
    "masked_feature = 12 # country and year do not count\n",
    "all_masked = 1 # if all inserted features should be masked randomly (if 1, masked feature is not needed)"
   ]
  },
  {
   "cell_type": "markdown",
   "metadata": {},
   "source": [
    "Funktion um Maske über Features zu legen"
   ]
  },
  {
   "cell_type": "code",
   "execution_count": 6,
   "metadata": {},
   "outputs": [],
   "source": [
    "def mask_features(features, miss_vals):   \n",
    "    #Reshape mask to flat array to choose random samples\n",
    "    mask = np.zeros(shape = (features.shape[0], features.shape[1]*features.shape[2]))\n",
    "    for sample in range(features.shape[0]):\n",
    "        if all_masked == 1:\n",
    "            #Draw number of missing values from Binomial distribution\n",
    "            p = np.random.uniform(0.2,0.8)\n",
    "            number_miss_vals = np.random.binomial(n=24*no_features, p = p)\n",
    "            idx_all = list(range(24*no_features)) # all features masked\n",
    "        else:\n",
    "            idx_all = list(range(masked_feature,24*no_features,no_features)) # just one feature masked\n",
    "        #Shuffle indices\n",
    "        np.random.shuffle(idx_all)\n",
    "        idx = idx_all[:number_miss_vals]\n",
    "        for mv in range(number_miss_vals):\n",
    "            #Insert mask at the middle day of the week\n",
    "            mask[sample, (2*24)*no_features + idx[mv]] = 1\n",
    "            \n",
    "    #Reshape mask into original shape\n",
    "    mask = mask.reshape(features.shape)\n",
    "    #Remove missing values from mask\n",
    "    mask[np.array(miss_vals)==1]=0\n",
    "    #Mask features\n",
    "    features_masked = np.array(features)\n",
    "    features_masked[mask==1] = 0\n",
    "    #Set miss vals to 1 in miss_vals\n",
    "    miss_vals_masked = np.array(miss_vals)\n",
    "    miss_vals_masked[mask==1] = 1\n",
    "    \n",
    "\n",
    "    return features_masked, miss_vals_masked, mask\n",
    "features_masked, miss_vals_masked, mask = mask_features(features, miss_vals)"
   ]
  },
  {
   "cell_type": "markdown",
   "metadata": {},
   "source": [
    "## Create validation split and fetch data"
   ]
  },
  {
   "cell_type": "markdown",
   "metadata": {},
   "source": [
    "Create function for validation split"
   ]
  },
  {
   "cell_type": "code",
   "execution_count": 7,
   "metadata": {},
   "outputs": [],
   "source": [
    "def val_split(data, split = 0.2):\n",
    "    size = int(data.shape[0]*split)\n",
    "    index = data.shape[0]\n",
    "    split_index = random.choices(range(index),k=size)\n",
    "    data_val = data[split_index]\n",
    "    data_train = np.delete(data,split_index,axis=0)\n",
    "    \n",
    "    return data_train, data_val"
   ]
  },
  {
   "cell_type": "markdown",
   "metadata": {},
   "source": [
    "# LSTM Model"
   ]
  },
  {
   "cell_type": "code",
   "execution_count": 8,
   "metadata": {},
   "outputs": [],
   "source": [
    "def loss_function(real, pred, mask):\n",
    "    real = real[mask==1]\n",
    "    pred = pred[mask==1]\n",
    "    real = tf.dtypes.cast(real, tf.float32)\n",
    "    error = real-pred\n",
    "    error = tf.square(error)\n",
    "    loss = tf.math.sqrt(tf.math.reduce_mean(error))*1000 # sonst so klein ;-)\n",
    "    return loss"
   ]
  },
  {
   "cell_type": "code",
   "execution_count": 9,
   "metadata": {},
   "outputs": [],
   "source": [
    "class Bi_LSTM(tf.keras.Model):\n",
    "    def __init__(self, no_features, rate = 0.1):\n",
    "        super(Bi_LSTM, self).__init__()\n",
    "\n",
    "        #Embedding layers\n",
    "        self.embedding_country = tf.keras.layers.Embedding(countries.shape[0], 9)\n",
    "        self.embedding_year = tf.keras.layers.Embedding(years.shape[0], 4) \n",
    "        \n",
    "        #LSTM Layer\n",
    "        self.lstm_layer = tf.keras.layers.Bidirectional(tf.keras.layers.LSTM(no_features, return_sequences = True, dropout = rate))\n",
    "\n",
    "        #Final Dense Layers\n",
    "        self.final_layer = tf.keras.layers.Dense(no_features)\n",
    "        \n",
    "    \n",
    "    def call(self, input_call):\n",
    "        country, year, hour, weekday, features_masked, miss_vals_masked, pos_enc = input_call\n",
    "        \n",
    "  \n",
    "        #Embeddings\n",
    "        country_emb = self.embedding_country(country)\n",
    "        year_emb = self.embedding_year(year)        \n",
    "        \n",
    "        # concatenation (embeddings plus features)\n",
    "        inp = tf.concat([pos_enc, \n",
    "                        tf.repeat(country_emb, pos_enc.shape[1], axis = 1),\n",
    "                        year_emb, \n",
    "                        features_masked,\n",
    "                        miss_vals_masked], axis = 2)\n",
    "                \n",
    "        #LSTM Layer\n",
    "        lstm_output = self.lstm_layer(inp)      \n",
    "        #Final Dense Layer\n",
    "        final_output = self.final_layer(lstm_output)\n",
    "\n",
    "        return final_output"
   ]
  },
  {
   "cell_type": "code",
   "execution_count": 10,
   "metadata": {},
   "outputs": [],
   "source": [
    "def train_step(country, year, hour, weekday, features, features_masked, miss_vals_masked, pos_enc, mask):\n",
    "    #Extract input\n",
    "    training = True\n",
    "    with tf.GradientTape() as tape:\n",
    "\n",
    "        pred = lstm([country, year, hour, weekday, features_masked, miss_vals_masked, pos_enc])            \n",
    "        loss = loss_function(features, pred, mask)\n",
    "\n",
    "    gradients = tape.gradient(loss, lstm.trainable_variables)           \n",
    "    optimizer.apply_gradients(zip(gradients, lstm.trainable_variables))\n",
    "    return loss, pred"
   ]
  },
  {
   "cell_type": "code",
   "execution_count": 11,
   "metadata": {},
   "outputs": [],
   "source": [
    "lstm = Bi_LSTM(no_features)"
   ]
  },
  {
   "cell_type": "code",
   "execution_count": 12,
   "metadata": {},
   "outputs": [],
   "source": [
    "BATCH_SIZE = 32\n",
    "learning_rate = 0.001\n",
    "optimizer = tf.keras.optimizers.Adam(learning_rate)"
   ]
  },
  {
   "cell_type": "code",
   "execution_count": 13,
   "metadata": {},
   "outputs": [],
   "source": [
    "train_loss = tf.keras.metrics.Mean(name='train_loss')\n",
    "val_loss = tf.keras.metrics.Mean(name='val_loss')"
   ]
  },
  {
   "cell_type": "markdown",
   "metadata": {},
   "source": [
    "## Create learning rate and early stopping scheduler"
   ]
  },
  {
   "cell_type": "code",
   "execution_count": 14,
   "metadata": {},
   "outputs": [
    {
     "name": "stdout",
     "output_type": "stream",
     "text": [
      "Latest checkpoint restored!!\n"
     ]
    }
   ],
   "source": [
    "checkpoint_path = \"./checkpoints/lstm\"\n",
    "\n",
    "ckpt = tf.train.Checkpoint(lstm=lstm,\n",
    "                           optimizer=optimizer)\n",
    "\n",
    "ckpt_manager = tf.train.CheckpointManager(ckpt, checkpoint_path, max_to_keep=5)\n",
    "\n",
    "# if a checkpoint exists, restore the latest checkpoint.\n",
    "if ckpt_manager.latest_checkpoint:\n",
    "    ckpt.restore(ckpt_manager.latest_checkpoint)\n",
    "    print('Latest checkpoint restored!!')"
   ]
  },
  {
   "cell_type": "code",
   "execution_count": 15,
   "metadata": {},
   "outputs": [],
   "source": [
    "class Scheduler:\n",
    "    def __init__(self, checkpoint, checkpoint_manager, learning_rate, patience = 2, delta = 5, fine_tuning = False, min_epochs = 10):\n",
    "        self.patience = patience\n",
    "        self.counter = 0\n",
    "        self.best_score = None\n",
    "        self.delta = delta\n",
    "        self.checkpoint_manager = checkpoint_manager\n",
    "        self.checkpoint = checkpoint\n",
    "        self.learning_rate = learning_rate\n",
    "        self.fine_tuning = fine_tuning\n",
    "        self.min_epochs = min_epochs\n",
    "\n",
    "    def __call__(self, metric, epoch):\n",
    "        #Check if score is not initialized\n",
    "        if self.best_score is None:\n",
    "            self.best_score = metric\n",
    "            return (False,self.learning_rate)\n",
    "        \n",
    "        #Check for minimum amount of epochs\n",
    "        if epoch <= self.min_epochs:\n",
    "            if metric <= self.best_score + self.delta:\n",
    "                self.best_score = metric\n",
    "                ckpt_save_path = self.checkpoint_manager.save()\n",
    "                print(f'Saving checkpoint at {ckpt_save_path}')\n",
    "            return (False, self.learning_rate)\n",
    "        \n",
    "        #If score is worse than before\n",
    "        if metric > self.best_score + self.delta:\n",
    "            self.counter += 1\n",
    "            #If score is still in patience\n",
    "            if self.counter >= self.patience:\n",
    "                #If fine tuning is already running\n",
    "                if self.fine_tuning==True:\n",
    "                    print(\"Training finished\")\n",
    "                    return (True,self.learning_rate)\n",
    "                else:\n",
    "                    self.fine_tuning=True\n",
    "                    self.counter = 0\n",
    "                    self.learning_rate = self.learning_rate/2\n",
    "                    self.patience += 2\n",
    "                    if self.checkpoint_manager.latest_checkpoint:\n",
    "                        self.checkpoint.restore(self.checkpoint_manager.latest_checkpoint)\n",
    "                        print('Latest checkpoint restored!!')\n",
    "                    print(f'Learning rate adjusted to {np.round(self.learning_rate,6)}')\n",
    "                    self.patience +=2\n",
    "                    return (False,self.learning_rate)\n",
    "            else:                \n",
    "                return (False,self.learning_rate)\n",
    "        #If score is better   \n",
    "        else:\n",
    "            self.best_score = metric\n",
    "            ckpt_save_path = self.checkpoint_manager.save()\n",
    "            print(f'Saving checkpoint at {ckpt_save_path}')\n",
    "            self.counter = 0        \n",
    "            return (False,self.learning_rate)"
   ]
  },
  {
   "cell_type": "code",
   "execution_count": 16,
   "metadata": {},
   "outputs": [
    {
     "data": {
      "text/plain": [
       "(False, 0.001)"
      ]
     },
     "execution_count": 16,
     "metadata": {},
     "output_type": "execute_result"
    }
   ],
   "source": [
    "scheduler = Scheduler(ckpt, ckpt_manager, learning_rate, patience = 3, delta = 2, fine_tuning=False, min_epochs = 0)\n",
    "last_val_loss = 1000\n",
    "scheduler(last_val_loss,0)"
   ]
  },
  {
   "cell_type": "markdown",
   "metadata": {},
   "source": [
    "## Create training Loop"
   ]
  },
  {
   "cell_type": "code",
   "execution_count": 25,
   "metadata": {},
   "outputs": [],
   "source": [
    "last_epoch = 0"
   ]
  },
  {
   "cell_type": "code",
   "execution_count": 26,
   "metadata": {},
   "outputs": [
    {
     "name": "stderr",
     "output_type": "stream",
     "text": [
      "Loading..: 100%|███████████████████████████████████████████████████████████████████| 1351/1351 [00:51<00:00, 26.19it/s]\n"
     ]
    },
    {
     "name": "stdout",
     "output_type": "stream",
     "text": [
      "Epoch 3 - Loss 265.4586 val_Loss 247.1915 \n"
     ]
    },
    {
     "name": "stderr",
     "output_type": "stream",
     "text": [
      "Loading..: 100%|███████████████████████████████████████████████████████████████████| 1351/1351 [00:47<00:00, 28.30it/s]\n"
     ]
    },
    {
     "name": "stdout",
     "output_type": "stream",
     "text": [
      "Epoch 4 - Loss 244.9958 val_Loss 241.6627 \n"
     ]
    },
    {
     "name": "stderr",
     "output_type": "stream",
     "text": [
      "Loading..: 100%|███████████████████████████████████████████████████████████████████| 1349/1349 [00:48<00:00, 27.85it/s]\n"
     ]
    },
    {
     "name": "stdout",
     "output_type": "stream",
     "text": [
      "Epoch 5 - Loss 231.0119 val_Loss 222.8958 \n"
     ]
    },
    {
     "name": "stderr",
     "output_type": "stream",
     "text": [
      "Loading..: 100%|███████████████████████████████████████████████████████████████████| 1350/1350 [00:47<00:00, 28.15it/s]\n"
     ]
    },
    {
     "name": "stdout",
     "output_type": "stream",
     "text": [
      "Epoch 6 - Loss 230.0208 val_Loss 214.9606 \n"
     ]
    },
    {
     "name": "stderr",
     "output_type": "stream",
     "text": [
      "Loading..: 100%|███████████████████████████████████████████████████████████████████| 1350/1350 [00:46<00:00, 29.21it/s]\n"
     ]
    },
    {
     "name": "stdout",
     "output_type": "stream",
     "text": [
      "Epoch 7 - Loss 213.1001 val_Loss 215.0929 \n",
      "Latest checkpoint restored!!\n",
      "Learning rate adjusted to 0.0005\n"
     ]
    }
   ],
   "source": [
    "EPOCHS = 100\n",
    "losses = [[],[]]\n",
    "\n",
    "\n",
    "\n",
    "for epoch in range(last_epoch, last_epoch + EPOCHS):        \n",
    "    # split train data in train and val sets\n",
    "    samples_train, samples_val = val_split(training_data)\n",
    "\n",
    "    # create train dataset\n",
    "    data_train = tf.data.Dataset.from_tensor_slices(samples_train)\n",
    "    data_train = data_train.cache()\n",
    "    data_train = data_train.shuffle(samples_train.shape[0]).padded_batch(BATCH_SIZE) #, drop_remainder=True\n",
    "    data_train = data_train.prefetch(tf.data.experimental.AUTOTUNE)\n",
    "\n",
    "\n",
    "    # create val dataset \n",
    "    data_val = tf.data.Dataset.from_tensor_slices(samples_val)\n",
    "    data_val = data_val.cache()\n",
    "    data_val = data_val.shuffle(samples_val.shape[0]).padded_batch(BATCH_SIZE) #, drop_remainder=True\n",
    "    data_val = data_val.prefetch(tf.data.experimental.AUTOTUNE)\n",
    "\n",
    "    train_loss.reset_states()\n",
    "    val_loss.reset_states()\n",
    "    \n",
    "    \n",
    "    train_counter = 0\n",
    "    running_train_loss = 0\n",
    "    # train the model\n",
    "    for (batch, data_inp) in tqdm(enumerate(data_train), desc = \"Loading..\", total = int(np.ceil(samples_train.shape[0]/BATCH_SIZE))):\n",
    "        train_counter += 1\n",
    "        features, miss_vals, pos_enc, country, year, hour, weekday  = change_format(data_inp)\n",
    "        features_masked, miss_vals_masked, mask = mask_features(features, miss_vals)\n",
    "\n",
    "        loss, pred = train_step(country, year, hour, weekday, features, features_masked,\n",
    "                                                miss_vals_masked, pos_enc, mask)\n",
    "        \n",
    "        #Save loss to tensorboard\n",
    "        running_train_loss += loss\n",
    "        if train_counter % 100 == 0:\n",
    "            with train_writer.as_default():\n",
    "                tf.summary.scalar('train_loss', running_train_loss/100, step=(epoch*len(samples_train)+train_counter*BATCH_SIZE))\n",
    "                running_train_loss = 0\n",
    "            \n",
    "\n",
    "        train_loss(loss)\n",
    "    losses[0].append(train_loss.result())\n",
    "    \n",
    "\n",
    "    # validation data calculation\n",
    "    for (batch, data_inp) in enumerate(data_val):\n",
    "        features, miss_vals, pos_enc, country, year, hour, weekday  = change_format(data_inp)\n",
    "        features_masked, miss_vals_masked, mask = mask_features(features, miss_vals)\n",
    "\n",
    "        pred = lstm([country, year, hour, weekday, features_masked, miss_vals_masked,\n",
    "                            pos_enc])\n",
    "        loss = loss_function(features, pred, mask)\n",
    "        val_loss(loss)\n",
    "    losses[1].append(val_loss.result())\n",
    "                                  \n",
    "    #Save validation data to log\n",
    "    with train_writer.as_default():\n",
    "        tf.summary.scalar('val_loss', val_loss.result(), step=((epoch+1)*len(samples_train)))\n",
    "                \n",
    "    print ('Epoch {} - Loss {:.4f} val_Loss {:.4f} '.format(\n",
    "        epoch + 1, train_loss.result(), val_loss.result()))\n",
    "\n",
    "    #Check early stopping and checkpointing\n",
    "    stopping, learning_rate = scheduler(float(val_loss.result()),epoch)\n",
    "    optimizer = tf.keras.optimizers.Adam(learning_rate)\n",
    "    if stopping == True:\n",
    "        break"
   ]
  },
  {
   "cell_type": "code",
   "execution_count": 19,
   "metadata": {},
   "outputs": [
    {
     "data": {
      "text/plain": [
       "[<matplotlib.lines.Line2D at 0x21c5bb35cd0>]"
      ]
     },
     "execution_count": 19,
     "metadata": {},
     "output_type": "execute_result"
    },
    {
     "data": {
      "image/png": "[encoded data removed]",
      "text/plain": [
       "<Figure size 432x288 with 1 Axes>"
      ]
     },
     "metadata": {
      "needs_background": "light"
     },
     "output_type": "display_data"
    }
   ],
   "source": [
    "plt.plot(losses[0])\n",
    "plt.plot(losses[1])"
   ]
  },
  {
   "cell_type": "markdown",
   "metadata": {},
   "source": [
    "# Predict Test dataset"
   ]
  },
  {
   "cell_type": "code",
   "execution_count": 14,
   "metadata": {},
   "outputs": [
    {
     "data": {
      "text/plain": [
       "<tensorflow.python.training.tracking.util.CheckpointLoadStatus at 0x15655119820>"
      ]
     },
     "execution_count": 14,
     "metadata": {},
     "output_type": "execute_result"
    }
   ],
   "source": [
    "lstm.load_weights('weights/lstm/lstm_weights')"
   ]
  },
  {
   "cell_type": "markdown",
   "metadata": {},
   "source": [
    "## Load testing mask"
   ]
  },
  {
   "cell_type": "code",
   "execution_count": 16,
   "metadata": {},
   "outputs": [],
   "source": [
    "#Function for testing mask\n",
    "def get_testing_mask(features, miss_vals, mask):\n",
    "    #mask = mask.reshape(features.shape)\n",
    "    features_masked = np.array(features)\n",
    "    features_masked[mask==1] = 0\n",
    "    miss_vals_masked = np.array(miss_vals)\n",
    "    miss_vals_masked[mask==1] = 1\n",
    "    \n",
    "    return features_masked, miss_vals_masked, mask"
   ]
  },
  {
   "cell_type": "code",
   "execution_count": 17,
   "metadata": {},
   "outputs": [],
   "source": [
    "#Fetch testing data\n",
    "data_test = tf.data.Dataset.from_tensor_slices(testing_data)\n",
    "data_test = data_test.cache()\n",
    "data_test = data_test.padded_batch(BATCH_SIZE) #, drop_remainder=True\n",
    "data_test = data_test.prefetch(tf.data.experimental.AUTOTUNE)"
   ]
  },
  {
   "cell_type": "markdown",
   "metadata": {},
   "source": [
    "# Prediction of testing masks"
   ]
  },
  {
   "cell_type": "markdown",
   "metadata": {},
   "source": [
    "## Loop over all testing masks"
   ]
  },
  {
   "cell_type": "code",
   "execution_count": 26,
   "metadata": {},
   "outputs": [
    {
     "name": "stdout",
     "output_type": "stream",
     "text": [
      "0.015820992157565942\n",
      "0.018583290072389735\n",
      "0.019953433678428268\n",
      "0.02222003157116792\n",
      "0.02576310284040559\n",
      "0.029795893372913784\n",
      "0.033881391188817014\n",
      "0.04355280550449776\n",
      "0.056916515529142064\n"
     ]
    }
   ],
   "source": [
    "for p in np.round(np.arange(0.1,1,0.1),1):\n",
    "    #Load testing mask\n",
    "    testing_mask=np.load(\"../evaluation/masks/testing_mask_{}.npy\".format(p))\n",
    "    #Create empty arrays for Results\n",
    "    prediction = np.array([])\n",
    "    values_act=np.array([])\n",
    "\n",
    "\n",
    "    for (batch, data_inp) in enumerate(data_test):    \n",
    "        features, miss_vals, pos_enc, country, year, hour, weekday  = change_format(data_inp)\n",
    "        features_masked, miss_vals_masked, mask = get_testing_mask(features, miss_vals, testing_mask[batch*BATCH_SIZE:(batch+1)*BATCH_SIZE])\n",
    "\n",
    "        pred = lstm([country, year, hour, weekday, features_masked, miss_vals_masked,\n",
    "                            pos_enc])\n",
    "\n",
    "        #Add real values and prediction to dataframe\n",
    "        values_act = np.append(values_act,np.array(features)[mask==1].flatten())\n",
    "        prediction = np.append(prediction,pred[mask==1].numpy())\n",
    "        \n",
    "    #Print mse\n",
    "    mse = mean_squared_error(values_act,prediction)\n",
    "    print(mse)\n",
    "        \n",
    "    #Save results\n",
    "    np.save(\"../data/predictions/lstm_pred_{}\".format(p),prediction)"
   ]
  },
  {
   "cell_type": "markdown",
   "metadata": {},
   "source": [
    "## Estimated testing mask"
   ]
  },
  {
   "cell_type": "code",
   "execution_count": 19,
   "metadata": {},
   "outputs": [
    {
     "name": "stdout",
     "output_type": "stream",
     "text": [
      "0.0677857490545821\n"
     ]
    }
   ],
   "source": [
    "#Prepare testing mask\n",
    "testing_mask_raw = np.load(\"../evaluation/masks/testing_mask_estimated.npy\")\n",
    "testing_mask = np.zeros(shape = (testing_mask_raw.shape[0],120,no_features))\n",
    "testing_mask[:,2*24:3*24] = testing_mask_raw\n",
    "#Create empty arrays for Results\n",
    "prediction = np.array([])\n",
    "values_act=np.array([])\n",
    "\n",
    "\n",
    "for (batch, data_inp) in enumerate(data_test):    \n",
    "    features, miss_vals, pos_enc, country, year, hour, weekday  = change_format(data_inp)\n",
    "    features_masked, miss_vals_masked, mask = get_testing_mask(features, miss_vals, testing_mask[batch*BATCH_SIZE:(batch+1)*BATCH_SIZE])\n",
    "\n",
    "    pred = lstm([country, year, hour, weekday, features_masked, miss_vals_masked,\n",
    "                        pos_enc])\n",
    "\n",
    "    #Add real values and prediction to dataframe\n",
    "    values_act = np.append(values_act,np.array(features)[mask==1].flatten())\n",
    "    prediction = np.append(prediction,pred[mask==1].numpy())\n",
    "\n",
    "#Print mse\n",
    "mse = mean_squared_error(values_act,prediction)\n",
    "print(mse)\n",
    "\n",
    "np.save(\"../data/predictions/lstm_pred_estimated\",prediction)"
   ]
  },
  {
   "cell_type": "code",
   "execution_count": null,
   "metadata": {},
   "outputs": [],
   "source": []
  }
 ],
 "metadata": {
  "kernelspec": {
   "display_name": "Python 3 (ipykernel)",
   "language": "python",
   "name": "python3"
  },
  "language_info": {
   "codemirror_mode": {
    "name": "ipython",
    "version": 3
   },
   "file_extension": ".py",
   "mimetype": "text/x-python",
   "name": "python",
   "nbconvert_exporter": "python",
   "pygments_lexer": "ipython3",
   "version": "3.8.8"
  },
  "toc-autonumbering": true
 },
 "nbformat": 4,
 "nbformat_minor": 4
}
