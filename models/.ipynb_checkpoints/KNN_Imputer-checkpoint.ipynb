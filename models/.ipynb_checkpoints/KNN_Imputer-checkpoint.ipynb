{
 "cells": [
  {
   "cell_type": "code",
   "execution_count": 1,
   "id": "8038704d",
   "metadata": {},
   "outputs": [],
   "source": [
    "import numpy as np\n",
    "import pandas as pd\n",
    "import tensorflow as tf\n",
    "import random\n",
    "from sklearn.impute import KNNImputer\n",
    "from sklearn.model_selection import train_test_split\n",
    "from sklearn.metrics import mean_absolute_error\n",
    "from sklearn.metrics import mean_squared_error\n",
    "import sys\n",
    "\n",
    "#Import custom modules\n",
    "sys.path.append('../')\n",
    "from utils.utils import *"
   ]
  },
  {
   "cell_type": "markdown",
   "id": "aae5c2e3",
   "metadata": {},
   "source": [
    "# Import data and mask"
   ]
  },
  {
   "cell_type": "code",
   "execution_count": 2,
   "id": "bf2978c8",
   "metadata": {},
   "outputs": [],
   "source": [
    "training_data, testing_data, testing_index = load_data()\n",
    "countries, no_features, feature_names, years, months, weekdays, hours = load_data_information()"
   ]
  },
  {
   "cell_type": "code",
   "execution_count": 3,
   "id": "62fd0fde",
   "metadata": {},
   "outputs": [],
   "source": [
    "# Extracts features, year, etc. from whole data\n",
    "def change_format(input_data):\n",
    "    #Extract country from data matrix\n",
    "    country_w = input_data[:,0,3]   \n",
    "    #Extract features from matrix\n",
    "    features_w = input_data[:,:,5:5+no_features]\n",
    "    #Extract matrix of missing values from data matrix\n",
    "    miss_vals_w = input_data[:,:,-no_features-6:-6]\n",
    "\n",
    "    #Prepare format for features\n",
    "    features_tf = np.reshape(features_w, [features_w.shape[0], -1, 1])\n",
    "    miss_vals_tf = np.reshape(miss_vals_w, [features_w.shape[0], -1, 1])  \n",
    "    \n",
    "\n",
    "    return features_tf, miss_vals_tf, country_w"
   ]
  },
  {
   "cell_type": "code",
   "execution_count": 4,
   "id": "e40bb3f8-e229-4057-b746-2ca0fe099a74",
   "metadata": {},
   "outputs": [],
   "source": [
    "def mask_features(features, miss_vals, prob_mask):\n",
    "    #Create and eshape mask\n",
    "    realized_mask = np.zeros(shape = (prob_mask.shape[0], 5 * 24* no_features))\n",
    "    realized_mask[:,2*24*no_features:3*24*no_features] = np.squeeze(np.random.binomial(1, prob_mask))\n",
    "    realized_mask = realized_mask.reshape(features.shape)\n",
    "\n",
    "    #Mask features\n",
    "    features_masked = np.array(features)\n",
    "    features_masked[realized_mask == 1] = 0\n",
    "    #Mask missing values\n",
    "    miss_vals_masked = np.array(miss_vals)\n",
    "    miss_vals_masked[realized_mask == 1] = 1\n",
    "\n",
    "    return features_masked, miss_vals_masked, realized_mask, miss_vals"
   ]
  },
  {
   "cell_type": "markdown",
   "id": "15a35300",
   "metadata": {},
   "source": [
    "# Predict test data"
   ]
  },
  {
   "cell_type": "code",
   "execution_count": 5,
   "id": "ddd2dd17",
   "metadata": {},
   "outputs": [],
   "source": [
    "#Prepare training and testing data\n",
    "features_train, _, train_countries = change_format(training_data)\n",
    "features_train = features_train.reshape(features_train.shape[0],features_train.shape[1])\n",
    "features_test, miss_vals_test, test_countries = change_format(testing_data)\n",
    "features_test = features_test.reshape(features_test.shape[0],features_test.shape[1])"
   ]
  },
  {
   "cell_type": "code",
   "execution_count": 6,
   "id": "6a68b11a",
   "metadata": {},
   "outputs": [
    {
     "data": {
      "text/plain": [
       "KNNImputer()"
      ]
     },
     "execution_count": 6,
     "metadata": {},
     "output_type": "execute_result"
    }
   ],
   "source": [
    "# Fit KNNImputer\n",
    "imputer = KNNImputer()\n",
    "imputer.fit(features_train)"
   ]
  },
  {
   "cell_type": "markdown",
   "id": "3a9b324d-f939-4884-b6f9-966be946227b",
   "metadata": {},
   "source": [
    "## Full distribution"
   ]
  },
  {
   "cell_type": "code",
   "execution_count": 7,
   "id": "3313101d-70ed-4806-8ad3-df177faf8034",
   "metadata": {},
   "outputs": [],
   "source": [
    "testing_mask = np.load(\"../data/evaluation/testing_distribution_full.npy\")\n",
    "_, _, mask, _ = mask_features(features_test, miss_vals_test, testing_mask)\n",
    "features_test_masked = features_test.copy()\n",
    "features_test_masked[mask == 1] = np.nan\n",
    "\n",
    "#Train KNN Imputer\n",
    "knn_pred = imputer.transform(features_test_masked)"
   ]
  },
  {
   "cell_type": "code",
   "execution_count": 8,
   "id": "253aad2d-4b03-47eb-89c8-5026ff95427e",
   "metadata": {},
   "outputs": [],
   "source": [
    "#Obtain prediction\n",
    "prediction = knn_pred[mask == 1]\n",
    "np.save(\"../data/predictions/knn_pred_full.npy\",prediction)"
   ]
  },
  {
   "cell_type": "code",
   "execution_count": 9,
   "id": "7a111a17-d9ac-48a5-b25f-7cdf05aecc50",
   "metadata": {},
   "outputs": [
    {
     "name": "stdout",
     "output_type": "stream",
     "text": [
      "0.056708086\n"
     ]
    }
   ],
   "source": [
    "missing = np.squeeze(miss_vals_test)[mask == 1]\n",
    "mse = mean_squared_error(prediction[missing == 0], features_test[mask == 1][missing == 0])\n",
    "print(mse)"
   ]
  },
  {
   "cell_type": "markdown",
   "id": "4a99b50e-956c-471e-8d86-d6e8e815eca9",
   "metadata": {},
   "source": [
    "## Filtered distribution"
   ]
  },
  {
   "cell_type": "code",
   "execution_count": 7,
   "id": "2c432707-5ce4-4d87-9811-5156adca7257",
   "metadata": {},
   "outputs": [],
   "source": [
    "testing_mask = np.load(\"../data/evaluation/testing_distribution_filtered.npy\")\n",
    "_, _, mask, _ = mask_features(features_test, miss_vals_test, testing_mask)\n",
    "features_test_masked = features_test.copy()\n",
    "features_test_masked[mask == 1] = np.nan\n",
    "\n",
    "#Train KNN Imputer\n",
    "knn_pred = imputer.transform(features_test_masked)"
   ]
  },
  {
   "cell_type": "code",
   "execution_count": 8,
   "id": "03473c23-a717-4d91-9fc1-a5fb61480b93",
   "metadata": {},
   "outputs": [],
   "source": [
    "#Obtain prediction\n",
    "prediction = knn_pred[mask == 1]\n",
    "np.save(\"../data/predictions/knn_pred_filtered.npy\",prediction)"
   ]
  },
  {
   "cell_type": "code",
   "execution_count": 9,
   "id": "98cbdf15-7552-4d8f-a4de-18f799005619",
   "metadata": {},
   "outputs": [
    {
     "name": "stdout",
     "output_type": "stream",
     "text": [
      "0.066760235\n"
     ]
    }
   ],
   "source": [
    "missing = np.squeeze(miss_vals_test)[mask == 1]\n",
    "mse = mean_squared_error(prediction[missing == 0], features_test[mask == 1][missing == 0])\n",
    "print(mse)"
   ]
  },
  {
   "cell_type": "code",
   "execution_count": null,
   "id": "83806a66-58aa-4f62-99b8-0c71b656b629",
   "metadata": {},
   "outputs": [],
   "source": []
  }
 ],
 "metadata": {
  "kernelspec": {
   "display_name": "Python 3 (ipykernel)",
   "language": "python",
   "name": "python3"
  },
  "language_info": {
   "codemirror_mode": {
    "name": "ipython",
    "version": 3
   },
   "file_extension": ".py",
   "mimetype": "text/x-python",
   "name": "python",
   "nbconvert_exporter": "python",
   "pygments_lexer": "ipython3",
   "version": "3.8.8"
  }
 },
 "nbformat": 4,
 "nbformat_minor": 5
}
