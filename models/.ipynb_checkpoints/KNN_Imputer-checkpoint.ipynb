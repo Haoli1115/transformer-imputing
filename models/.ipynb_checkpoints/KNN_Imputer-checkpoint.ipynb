{
 "cells": [
  {
   "cell_type": "code",
   "execution_count": 5,
   "id": "8038704d",
   "metadata": {},
   "outputs": [],
   "source": [
    "import numpy as np\n",
    "import pandas as pd\n",
    "import tensorflow as tf\n",
    "import random\n",
    "from sklearn.impute import KNNImputer\n",
    "from sklearn.model_selection import train_test_split\n",
    "from sklearn.metrics import mean_absolute_error\n",
    "from sklearn.metrics import mean_squared_error\n",
    "import sys\n",
    "\n",
    "#Import custom modules\n",
    "sys.path.append('../')\n",
    "from utils.utils import *"
   ]
  },
  {
   "cell_type": "markdown",
   "id": "aae5c2e3",
   "metadata": {},
   "source": [
    "# Import data and mask"
   ]
  },
  {
   "cell_type": "code",
   "execution_count": 6,
   "id": "bf2978c8",
   "metadata": {},
   "outputs": [],
   "source": [
    "training_data, testing_data, testing_index = load_data()\n",
    "countries, no_features, feature_names, years, months, weekdays, hours = load_data_information()"
   ]
  },
  {
   "cell_type": "code",
   "execution_count": 7,
   "id": "62fd0fde",
   "metadata": {},
   "outputs": [],
   "source": [
    "# Extracts features, year, etc. from whole data\n",
    "def change_format(input_data):\n",
    "    #Extract country from data matrix\n",
    "    country_w = input_data[:,0,3]   \n",
    "    #Extract features from matrix\n",
    "    features_w = input_data[:,:,5:5+no_features]\n",
    "    #Extract matrix of missing values from data matrix\n",
    "    miss_vals_w = input_data[:,:,-no_features-6:-6]\n",
    "\n",
    "    #Prepare format for features\n",
    "    features_tf = np.reshape(features_w, [features_w.shape[0], -1, 1])\n",
    "    miss_vals_tf = np.reshape(miss_vals_w, [features_w.shape[0], -1, 1])  \n",
    "    \n",
    "\n",
    "    return features_tf, miss_vals_tf, country_w"
   ]
  },
  {
   "cell_type": "code",
   "execution_count": 8,
   "id": "d6eec5f4",
   "metadata": {},
   "outputs": [],
   "source": [
    "#Function for testing mask\n",
    "def get_testing_mask(features, miss_vals, mask):\n",
    "    mask = mask.reshape(features.shape)\n",
    "    features_masked = np.array(features)\n",
    "    features_masked[mask==1] = 0\n",
    "\n",
    "    miss_vals_masked = np.array(miss_vals)\n",
    "    miss_vals_masked[mask==1] = 1\n",
    "\n",
    "    \n",
    "    return features_masked, miss_vals_masked, mask"
   ]
  },
  {
   "cell_type": "markdown",
   "id": "15a35300",
   "metadata": {},
   "source": [
    "# Loop over testing masks"
   ]
  },
  {
   "cell_type": "code",
   "execution_count": 9,
   "id": "ddd2dd17",
   "metadata": {},
   "outputs": [],
   "source": [
    "#Prepare training and testing data\n",
    "features_train,_,train_countries = change_format(training_data)\n",
    "features_train = features_train.reshape(features_train.shape[0],features_train.shape[1])\n",
    "features_test,miss_vals_test,test_countries = change_format(testing_data)\n",
    "features_test = features_test.reshape(features_test.shape[0],features_test.shape[1])"
   ]
  },
  {
   "cell_type": "code",
   "execution_count": 10,
   "id": "6a68b11a",
   "metadata": {},
   "outputs": [
    {
     "data": {
      "text/plain": [
       "KNNImputer()"
      ]
     },
     "execution_count": 10,
     "metadata": {},
     "output_type": "execute_result"
    }
   ],
   "source": [
    "# Fit KNNImputer\n",
    "imputer = KNNImputer()\n",
    "imputer.fit(features_train)"
   ]
  },
  {
   "cell_type": "code",
   "execution_count": 11,
   "id": "7bdf218c",
   "metadata": {},
   "outputs": [
    {
     "name": "stdout",
     "output_type": "stream",
     "text": [
      "0.07756092\n",
      "0.0792192\n",
      "0.079119936\n",
      "0.08223445\n",
      "0.08716319\n",
      "0.090610445\n",
      "0.09350976\n",
      "0.09967454\n",
      "0.10487978\n"
     ]
    }
   ],
   "source": [
    "perc = np.round(np.arange(0.1,1,0.1),1)\n",
    "for p in perc:\n",
    "    testing_mask = np.load(\"../evaluation/masks/testing_mask_{}.npy\".format(p))\n",
    "    \n",
    "    #Mask values of testing_data\n",
    "    _,_,mask = get_testing_mask(features_test,miss_vals_test,testing_mask)\n",
    "    features_test_masked = features_test.copy()\n",
    "    features_test_masked[mask==1]=np.nan\n",
    "    \n",
    "    #Train KNN Imputer\n",
    "    knn_pred = imputer.transform(features_test_masked)\n",
    "    \n",
    "    #Obtain true values and prediction\n",
    "    true_values = features_test[mask==1]\n",
    "    prediction = knn_pred[mask==1]\n",
    "    \n",
    "    #Calculate mse\n",
    "    mse = mean_squared_error(true_values,prediction)\n",
    "    print(mse)\n",
    "    \n",
    "    #Save prediction\n",
    "    np.save(\"../data/predictions/knn_pred_{}\".format(p),prediction)"
   ]
  },
  {
   "cell_type": "code",
   "execution_count": null,
   "id": "6d86b180",
   "metadata": {},
   "outputs": [],
   "source": []
  },
  {
   "cell_type": "code",
   "execution_count": null,
   "id": "482b150d",
   "metadata": {},
   "outputs": [],
   "source": []
  }
 ],
 "metadata": {
  "kernelspec": {
   "display_name": "Python 3 (ipykernel)",
   "language": "python",
   "name": "python3"
  },
  "language_info": {
   "codemirror_mode": {
    "name": "ipython",
    "version": 3
   },
   "file_extension": ".py",
   "mimetype": "text/x-python",
   "name": "python",
   "nbconvert_exporter": "python",
   "pygments_lexer": "ipython3",
   "version": "3.8.8"
  }
 },
 "nbformat": 4,
 "nbformat_minor": 5
}
