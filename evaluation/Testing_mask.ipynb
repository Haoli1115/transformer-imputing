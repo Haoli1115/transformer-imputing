{
 "cells": [
  {
   "cell_type": "code",
   "execution_count": 2,
   "id": "f4cf4b04",
   "metadata": {},
   "outputs": [],
   "source": [
    "import sys\n",
    "import pandas as pd\n",
    "import numpy as np\n",
    "import time\n",
    "import matplotlib.pyplot as plt\n",
    "import seaborn as sns\n",
    "from datetime import datetime, timedelta\n",
    "import tensorflow as tf\n",
    "from tensorflow import keras\n",
    "from tensorflow.keras.layers import *\n",
    "import tensorflow_probability as tfp\n",
    "from tensorflow.keras.models import Model\n",
    "import statsmodels.api as sm\n",
    "from math import sqrt as math_sqrt\n",
    "from sklearn.metrics import mean_squared_error\n",
    "import pickle\n",
    "import math\n",
    "import random\n",
    "\n",
    "#Import custom modules\n",
    "sys.path.append('../')\n",
    "from utils.utils import *"
   ]
  },
  {
   "cell_type": "code",
   "execution_count": 3,
   "id": "ec429680",
   "metadata": {},
   "outputs": [],
   "source": [
    "training_data, testing_data, testing_index = load_data()"
   ]
  },
  {
   "cell_type": "code",
   "execution_count": 4,
   "id": "16376c4f",
   "metadata": {},
   "outputs": [],
   "source": [
    "countries, nu_features, feature_names, years, months, weekdays, hours = load_data_information()"
   ]
  },
  {
   "cell_type": "code",
   "execution_count": 5,
   "id": "9252b597",
   "metadata": {},
   "outputs": [],
   "source": [
    "# Extracts features, year, etc. from whole data\n",
    "def change_format(input_data):\n",
    "    #Extract year from data matrix\n",
    "    year_w = input_data[:,:,0:1]\n",
    "    #Extract weekday from data matrix\n",
    "    weekday_w = input_data[:,:,1:2]\n",
    "    #Extract hour from data matrix\n",
    "    hour_w = input_data[:,:,2:3]\n",
    "    #Extract country from data matrix\n",
    "    country_w = input_data[:,0:1,3]   \n",
    "    #Extract month from data matrix\n",
    "    month_w = input_data[:,:,4:5]\n",
    "    #Extract features from matrix\n",
    "    features_w = input_data[:,:,5:5+nu_features]\n",
    "    #Extract matrix of missing values from data matrix\n",
    "    miss_vals_w = input_data[:,:,-nu_features-6:-6]\n",
    "    #Extract pos enc from data matrix\n",
    "    pos_enc_w = input_data[:,:,-6:]\n",
    "\n",
    "\n",
    "    #Prepare format for features\n",
    "    features_tf = np.reshape(features_w, [features_w.shape[0], -1, 1])\n",
    "    miss_vals_tf = np.reshape(miss_vals_w, [features_w.shape[0], -1, 1])\n",
    "    pos_enc_tf = np.reshape(tf.transpose(np.repeat(np.reshape(pos_enc_w, [pos_enc_w.shape[0], pos_enc_w.shape[1], pos_enc_w.shape[2], 1]),\n",
    "                                                   nu_features, axis = 3), perm=[0,1,3,2]),[pos_enc_w.shape[0],-1,pos_enc_w.shape[2]])\n",
    "    feature_nr_tf = np.repeat(np.reshape(np.repeat(np.reshape(np.array(range(nu_features)),[1,-1]), input_data.shape[1], axis = 0),[1,-1]), input_data.shape[0], axis = 0)\n",
    "    \n",
    "    #Reshape other features\n",
    "    hour_tf = np.reshape(np.repeat(hour_w, nu_features,axis=2),[input_data.shape[0],-1])\n",
    "    year_tf = np.reshape(np.repeat(year_w, nu_features,axis=2),[input_data.shape[0],-1])\n",
    "    weekday_tf = np.reshape(np.repeat(weekday_w, nu_features,axis=2),[input_data.shape[0],-1])\n",
    "    month_tf = np.reshape(np.repeat(month_w, nu_features,axis=2),[input_data.shape[0],-1])\n",
    "    \n",
    "    \n",
    "\n",
    "    return features_tf, miss_vals_tf, pos_enc_tf, country_w, year_tf, weekday_tf, hour_tf, feature_nr_tf"
   ]
  },
  {
   "cell_type": "code",
   "execution_count": 6,
   "id": "727f24ca",
   "metadata": {},
   "outputs": [],
   "source": [
    "def create_testing_mask(miss_vals,nu_features,p):\n",
    "\n",
    "    testing_mask = np.zeros(shape = (testing_data.shape[0],testing_data.shape[1]*nu_features))\n",
    "    for sample in range(testing_mask.shape[0]):\n",
    "\n",
    "        #Draw number of missing values\n",
    "        number_miss_vals = np.random.binomial(n=24*nu_features, p=p)\n",
    "        #number_miss_vals = int(np.round(24*nu_features*p))\n",
    "\n",
    "        #Draw index\n",
    "        index = np.random.choice(np.arange(2*24*nu_features,3*24*nu_features), size=number_miss_vals, replace = False)\n",
    "        testing_mask[sample,index]=1\n",
    "\n",
    "    #Reshape to original shape\n",
    "    testing_mask = testing_mask.reshape(miss_vals.shape)\n",
    "    \n",
    "    #Make sure no missing values are included\n",
    "    testing_mask[miss_vals==1]=0\n",
    "    return(testing_mask)"
   ]
  },
  {
   "cell_type": "code",
   "execution_count": 7,
   "id": "f078c4d1",
   "metadata": {},
   "outputs": [
    {
     "name": "stdout",
     "output_type": "stream",
     "text": [
      "9.725878497630237\n",
      "19.44735707061693\n",
      "29.123039244848993\n",
      "38.794259523667876\n",
      "48.56488091696908\n",
      "58.24700805124239\n",
      "68.03541505542665\n",
      "77.67081622940091\n",
      "87.39464969163345\n"
     ]
    }
   ],
   "source": [
    "#Create new mask\n",
    "perc = np.arange(0.1,1,0.1)\n",
    "\n",
    "_,miss_vals,_,_,_,_,_,_=change_format(testing_data)\n",
    "miss_vals=np.reshape(miss_vals, [miss_vals.shape[0], -1, nu_features])\n",
    "\n",
    "for p in np.round(perc,1):\n",
    "    testing_mask = create_testing_mask(miss_vals,nu_features,p)\n",
    "    np.save(\"../evaluation/testing_mask_{}\".format(p),testing_mask)\n",
    "\n",
    "    #Print percentage\n",
    "    total = testing_mask.shape[0]*testing_mask.shape[2]*24\n",
    "    perc = ((testing_mask.sum()/total)*100)\n",
    "    print(perc)\n"
   ]
  },
  {
   "cell_type": "code",
   "execution_count": 7,
   "id": "2777fdea",
   "metadata": {},
   "outputs": [],
   "source": [
    "def create_testing_mask(miss_vals,nu_features,p):\n",
    "\n",
    "    testing_mask = np.zeros(shape = (testing_data.shape[0],testing_data.shape[1]*nu_features))\n",
    "    for sample in range(testing_mask.shape[0]):\n",
    "\n",
    "        #Draw number of missing values\n",
    "        number_miss_vals = np.random.binomial(n=24*nu_features, p=p)\n",
    "\n",
    "        #Draw index\n",
    "        index = np.random.choice(np.arange(3*24*nu_features,4*24*nu_features), size=number_miss_vals, replace = False)\n",
    "        testing_mask[sample,index]=1\n",
    "\n",
    "    #Reshape to original shape\n",
    "    testing_mask = testing_mask.reshape(miss_vals.shape)\n",
    "    \n",
    "    #Make sure no missing values are included\n",
    "    testing_mask[miss_vals==1]=0\n",
    "    return(testing_mask)"
   ]
  },
  {
   "cell_type": "markdown",
   "id": "30673ebc",
   "metadata": {},
   "source": [
    "# Old method"
   ]
  },
  {
   "cell_type": "code",
   "execution_count": 8,
   "id": "e4368021",
   "metadata": {},
   "outputs": [],
   "source": [
    "def create_testing_mask(miss_vals,nu_features,p):\n",
    "    \n",
    "    testing_mask = np.zeros(shape = (testing_data.shape[0],testing_data.shape[1],nu_features))\n",
    "\n",
    "    #Custom mask\n",
    "    nu_features_missing = int(np.round(nu_features*p))\n",
    "\n",
    "\n",
    "    for sample in range(testing_mask.shape[0]):\n",
    "        features_masked = np.random.choice(nu_features,nu_features_missing,replace=False)\n",
    "        for feature in features_masked:\n",
    "            #Create variable length using binomial distribution\n",
    "            length = np.random.binomial(n=24, p=0.75)\n",
    "            #Create position during day to start gap\n",
    "            if length!=24:\n",
    "                pos = np.random.randint(low = 0, high = 24-length)\n",
    "            else:\n",
    "                pos = 0\n",
    "\n",
    "            testing_mask[sample,2*24+pos:2*24+(pos+length),feature]=1\n",
    "            \n",
    "    #Make sure no missing values are included\n",
    "    testing_mask[miss_vals==1]=0\n",
    "    return(testing_mask)"
   ]
  },
  {
   "cell_type": "code",
   "execution_count": 9,
   "id": "8f804e03",
   "metadata": {},
   "outputs": [],
   "source": [
    "_,miss_vals,_,_,_,_,_,_=change_format(testing_data)\n",
    "miss_vals=np.reshape(miss_vals, [miss_vals.shape[0], -1, nu_features])\n",
    "p=0.4\n",
    "testing_mask = create_testing_mask(miss_vals,nu_features,p)\n",
    "np.save(\"../evaluation/masks/testing_mask_test\",testing_mask)"
   ]
  },
  {
   "cell_type": "code",
   "execution_count": null,
   "id": "055b96e4",
   "metadata": {},
   "outputs": [],
   "source": []
  }
 ],
 "metadata": {
  "kernelspec": {
   "display_name": "Python 3 (ipykernel)",
   "language": "python",
   "name": "python3"
  },
  "language_info": {
   "codemirror_mode": {
    "name": "ipython",
    "version": 3
   },
   "file_extension": ".py",
   "mimetype": "text/x-python",
   "name": "python",
   "nbconvert_exporter": "python",
   "pygments_lexer": "ipython3",
   "version": "3.8.8"
  }
 },
 "nbformat": 4,
 "nbformat_minor": 5
}
